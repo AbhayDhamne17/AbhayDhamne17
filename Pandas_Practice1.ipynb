{
 "cells": [
  {
   "cell_type": "code",
   "execution_count": 2,
   "id": "009da90c-5557-4372-8a96-6d092a5ca821",
   "metadata": {},
   "outputs": [],
   "source": [
    "import numpy as np\n",
    "import pandas as pd\n",
    "import math\n",
    "import matplotlib as plt\n",
    "import seaborn as sn"
   ]
  },
  {
   "cell_type": "code",
   "execution_count": 3,
   "id": "92c8406f-6528-4fa7-866a-f901de709e2d",
   "metadata": {},
   "outputs": [
    {
     "name": "stdout",
     "output_type": "stream",
     "text": [
      "     outlook  temperature  humidity  windy play\n",
      "0      sunny           85        85  False   no\n",
      "1      sunny           80        90   True   no\n",
      "2   overcast           83        86  False  yes\n",
      "3      rainy           70        96  False  yes\n",
      "4      rainy           68        80  False  yes\n",
      "5      rainy           65        70   True   no\n",
      "6   overcast           64        65   True  yes\n",
      "7      sunny           72        95  False   no\n",
      "8      sunny           69        70  False  yes\n",
      "9      rainy           75        80  False  yes\n",
      "10     sunny           75        70   True  yes\n",
      "11  overcast           72        90   True  yes\n",
      "12  overcast           81        75  False  yes\n",
      "13     rainy           71        91   True   no\n"
     ]
    }
   ],
   "source": [
    "file = pd.read_csv('tenis.csv')\n",
    "print(file)"
   ]
  },
  {
   "cell_type": "code",
   "execution_count": 4,
   "id": "3a1f5d04-e9c4-4352-9df1-2d95f16c198d",
   "metadata": {},
   "outputs": [
    {
     "name": "stdout",
     "output_type": "stream",
     "text": [
      "     outlook  temperature  humidity  windy play\n",
      "0      sunny           85        85  False   no\n",
      "1      sunny           80        90   True   no\n",
      "2   overcast           83        86  False  yes\n",
      "3      rainy           70        96  False  yes\n",
      "4      rainy           68        80  False  yes\n",
      "5      rainy           65        70   True   no\n",
      "6   overcast           64        65   True  yes\n",
      "7      sunny           72        95  False   no\n",
      "8      sunny           69        70  False  yes\n",
      "9      rainy           75        80  False  yes\n",
      "10     sunny           75        70   True  yes\n",
      "11  overcast           72        90   True  yes\n",
      "12  overcast           81        75  False  yes\n",
      "13     rainy           71        91   True   no\n"
     ]
    }
   ],
   "source": [
    "print(file.loc[0:])"
   ]
  },
  {
   "cell_type": "code",
   "execution_count": 5,
   "id": "908a84a9-33b2-424c-8cd9-1487cac764a8",
   "metadata": {},
   "outputs": [],
   "source": [
    "filt_array = []\n",
    "for element in file.play:\n",
    "  if element == 'yes':\n",
    "    filt_array.append(True)\n",
    "  else:\n",
    "    filt_array.append(False)"
   ]
  },
  {
   "cell_type": "code",
   "execution_count": 6,
   "id": "41aac9ca-f5cc-4a88-96d4-1b116519ee11",
   "metadata": {},
   "outputs": [
    {
     "name": "stdout",
     "output_type": "stream",
     "text": [
      "     outlook  temperature  humidity  windy play\n",
      "2   overcast           83        86  False  yes\n",
      "3      rainy           70        96  False  yes\n",
      "4      rainy           68        80  False  yes\n",
      "6   overcast           64        65   True  yes\n",
      "8      sunny           69        70  False  yes\n",
      "9      rainy           75        80  False  yes\n",
      "10     sunny           75        70   True  yes\n",
      "11  overcast           72        90   True  yes\n",
      "12  overcast           81        75  False  yes\n",
      "9\n"
     ]
    }
   ],
   "source": [
    "new_array = file[filt_array]\n",
    "print(new_array)\n",
    "print(new_array['play'].count())"
   ]
  },
  {
   "cell_type": "code",
   "execution_count": 7,
   "id": "afd44329-34f0-4335-ba92-44e116f33e15",
   "metadata": {},
   "outputs": [],
   "source": [
    "filter = []\n",
    "for element in new_array.outlook:\n",
    "    if element == 'overcast':\n",
    "        filter.append(True)\n",
    "    else:\n",
    "        filter.append(False)"
   ]
  },
  {
   "cell_type": "code",
   "execution_count": 8,
   "id": "08a9bacd-025c-42e8-9132-edcb4400175e",
   "metadata": {},
   "outputs": [
    {
     "name": "stdout",
     "output_type": "stream",
     "text": [
      "[True, False, False, True, False, False, False, True, True]\n"
     ]
    }
   ],
   "source": [
    "print(filter)"
   ]
  },
  {
   "cell_type": "code",
   "execution_count": 9,
   "id": "c3ab17aa-5ac7-4cf1-b334-1eeaf03697cc",
   "metadata": {},
   "outputs": [
    {
     "name": "stdout",
     "output_type": "stream",
     "text": [
      "     outlook  temperature  humidity  windy play\n",
      "2   overcast           83        86  False  yes\n",
      "6   overcast           64        65   True  yes\n",
      "11  overcast           72        90   True  yes\n",
      "12  overcast           81        75  False  yes\n"
     ]
    }
   ],
   "source": [
    "new_array1 = new_array[filter]\n",
    "print(new_array1)"
   ]
  },
  {
   "cell_type": "code",
   "execution_count": 10,
   "id": "60781f1f-034d-4a54-8c9d-8424130040ff",
   "metadata": {},
   "outputs": [
    {
     "name": "stdout",
     "output_type": "stream",
     "text": [
      "[False, True, True, False, False, True, False, False, False]\n",
      "  outlook  temperature  humidity  windy play\n",
      "3   rainy           70        96  False  yes\n",
      "4   rainy           68        80  False  yes\n",
      "9   rainy           75        80  False  yes\n"
     ]
    }
   ],
   "source": [
    "filter1 = []\n",
    "for element in new_array.outlook:\n",
    "    if element == 'rainy':\n",
    "        filter1.append(True)\n",
    "    else:\n",
    "        filter1.append(False)\n",
    "print(filter1)\n",
    "new_array2 = new_array[filter1]\n",
    "print(new_array2)"
   ]
  },
  {
   "cell_type": "code",
   "execution_count": 11,
   "id": "6e01f46e-a5e1-44bb-aa9a-d20810b92bce",
   "metadata": {},
   "outputs": [
    {
     "data": {
      "text/html": [
       "<div>\n",
       "<style scoped>\n",
       "    .dataframe tbody tr th:only-of-type {\n",
       "        vertical-align: middle;\n",
       "    }\n",
       "\n",
       "    .dataframe tbody tr th {\n",
       "        vertical-align: top;\n",
       "    }\n",
       "\n",
       "    .dataframe thead th {\n",
       "        text-align: right;\n",
       "    }\n",
       "</style>\n",
       "<table border=\"1\" class=\"dataframe\">\n",
       "  <thead>\n",
       "    <tr style=\"text-align: right;\">\n",
       "      <th></th>\n",
       "      <th>temperature</th>\n",
       "      <th>humidity</th>\n",
       "    </tr>\n",
       "  </thead>\n",
       "  <tbody>\n",
       "    <tr>\n",
       "      <th>count</th>\n",
       "      <td>14.000000</td>\n",
       "      <td>14.000000</td>\n",
       "    </tr>\n",
       "    <tr>\n",
       "      <th>mean</th>\n",
       "      <td>73.571429</td>\n",
       "      <td>81.642857</td>\n",
       "    </tr>\n",
       "    <tr>\n",
       "      <th>std</th>\n",
       "      <td>6.571667</td>\n",
       "      <td>10.285218</td>\n",
       "    </tr>\n",
       "    <tr>\n",
       "      <th>min</th>\n",
       "      <td>64.000000</td>\n",
       "      <td>65.000000</td>\n",
       "    </tr>\n",
       "    <tr>\n",
       "      <th>25%</th>\n",
       "      <td>69.250000</td>\n",
       "      <td>71.250000</td>\n",
       "    </tr>\n",
       "    <tr>\n",
       "      <th>50%</th>\n",
       "      <td>72.000000</td>\n",
       "      <td>82.500000</td>\n",
       "    </tr>\n",
       "    <tr>\n",
       "      <th>75%</th>\n",
       "      <td>78.750000</td>\n",
       "      <td>90.000000</td>\n",
       "    </tr>\n",
       "    <tr>\n",
       "      <th>max</th>\n",
       "      <td>85.000000</td>\n",
       "      <td>96.000000</td>\n",
       "    </tr>\n",
       "  </tbody>\n",
       "</table>\n",
       "</div>"
      ],
      "text/plain": [
       "       temperature   humidity\n",
       "count    14.000000  14.000000\n",
       "mean     73.571429  81.642857\n",
       "std       6.571667  10.285218\n",
       "min      64.000000  65.000000\n",
       "25%      69.250000  71.250000\n",
       "50%      72.000000  82.500000\n",
       "75%      78.750000  90.000000\n",
       "max      85.000000  96.000000"
      ]
     },
     "execution_count": 11,
     "metadata": {},
     "output_type": "execute_result"
    }
   ],
   "source": [
    "file.describe()"
   ]
  },
  {
   "cell_type": "code",
   "execution_count": 48,
   "id": "752cd34d-bdde-4ef4-9745-2212f6727dc9",
   "metadata": {},
   "outputs": [
    {
     "name": "stdout",
     "output_type": "stream",
     "text": [
      "   calories  duration\n",
      "1       120      1554\n",
      "2       124      1425\n",
      "3       236      7569\n"
     ]
    }
   ],
   "source": [
    "data = {\"calories\": [120, 124, 236],\n",
    "        \"duration\": [1554, 1425, 7569]}\n",
    "#load data into a DataFrame object:\n",
    "df = pd.DataFrame(data, index = [1, 2, 3])\n",
    "print(df)"
   ]
  },
  {
   "cell_type": "code",
   "execution_count": null,
   "id": "9a4a9217-5694-4d59-aa6c-ee8205d0062a",
   "metadata": {},
   "outputs": [],
   "source": []
  }
 ],
 "metadata": {
  "kernelspec": {
   "display_name": "Python 3 (ipykernel)",
   "language": "python",
   "name": "python3"
  },
  "language_info": {
   "codemirror_mode": {
    "name": "ipython",
    "version": 3
   },
   "file_extension": ".py",
   "mimetype": "text/x-python",
   "name": "python",
   "nbconvert_exporter": "python",
   "pygments_lexer": "ipython3",
   "version": "3.11.5"
  },
  "widgets": {
   "application/vnd.jupyter.widget-state+json": {
    "state": {},
    "version_major": 2,
    "version_minor": 0
   }
  }
 },
 "nbformat": 4,
 "nbformat_minor": 5
}
